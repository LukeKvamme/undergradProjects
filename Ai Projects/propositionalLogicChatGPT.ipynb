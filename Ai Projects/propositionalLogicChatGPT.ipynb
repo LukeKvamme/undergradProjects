{
  "nbformat": 4,
  "nbformat_minor": 0,
  "metadata": {
    "colab": {
      "provenance": []
    },
    "kernelspec": {
      "name": "python3",
      "display_name": "Python 3"
    },
    "language_info": {
      "name": "python"
    }
  },
  "cells": [
    {
      "cell_type": "markdown",
      "source": [
        "<center>\n",
        "<h1> Programming Assignment 3: Knowledge Representation</h1>\n",
        "</center>"
      ],
      "metadata": {
        "id": "8rQMglahyhYs"
      }
    },
    {
      "cell_type": "markdown",
      "source": [
        "# 0. Copy, Upload and Import"
      ],
      "metadata": {
        "id": "gidUQEgWy9Qg"
      }
    },
    {
      "cell_type": "markdown",
      "source": [
        "1. Make a copy of this notebook on the Google Drive linked to your account. \n",
        "\n",
        "  File (menu bar) -> _\"Save a copy in Drive\"_\n",
        "\n",
        "2. Open the copy of the file from your Google Drive and close this tab. \n",
        "\n",
        "3. Upload `logic.py` and `utils.py` (Download through Moodle or [this link](https://drive.google.com/file/d/1avam_Jpb3LzGbziKD7l6cmm4hNmWMZrF/view?usp=sharing))\n",
        "\n",
        "3. Run the code cell below: "
      ],
      "metadata": {
        "id": "Yj54isKxzKMl"
      }
    },
    {
      "cell_type": "code",
      "source": [
        "import spacy\n",
        "import sys\n",
        "from spacy import displacy\n",
        "\n",
        "from logic import *\n",
        "\n",
        "nlp = spacy.load(\"en_core_web_sm\")"
      ],
      "metadata": {
        "id": "R-Wn-m-ly6pC"
      },
      "execution_count": null,
      "outputs": []
    },
    {
      "cell_type": "markdown",
      "source": [
        "# 1. Semantic parsing"
      ],
      "metadata": {
        "id": "xBBULvxJrzCj"
      }
    },
    {
      "cell_type": "markdown",
      "source": [
        "**Semantic parsing** is the task of converting natural lanugage sentences into first-order logic sentences. \n",
        "\n",
        "In this problem, you will implement **grammar rules** that convert some basic natural language sentence structures into their logical counterparts. \n",
        "\n",
        "These grammar rule are _\"templates\"_  based on Part-Of-Speech (POS) tags. \n",
        "\n",
        "The full list of POS tags is provided at the bottom of the notebook. \n",
        "\n",
        "<br/>\n",
        "<u>Example 1</u>: \n",
        "\n",
        "The natural language sentence **_\"Alice is a student\"_** has POS tags \\\n",
        "\n",
        "`[(Alice, 'PROPN'), (is, 'AUX'), (a, 'DET'), (student, 'NOUN')]` \\\n",
        "\n",
        "and should convert to **`Student(Alice)`**\n",
        "\n",
        "To convert such natural language sentences, you would need the grammar rule: \n",
        "\n",
        " **`PROPN is a NOUN`** resulting in the predicate **`NOUN(PROPN)`**\n",
        "\n",
        "<br/>\n",
        "<u>Example 2</u>: \n",
        "\n",
        "The natural language sentence **_\"Every student is a person\"_** has POS tags: \n",
        "\n",
        "`[(Every, 'DET'), (student, 'NOUN'), (is, 'AUX'), (a, 'DET'), (person, 'NOUN')]`\n",
        "\n",
        "and should convert to **`Student ==> Person`**\n",
        "\n",
        "For such sentences, you would need the template: \n",
        "\n",
        " **`Every NOUN`$_1$ `is a NOUN`$_2$** resulting in the predicate **`NOUN`$_1$ ` ==> NOUN` $_2$**\n",
        "\n",
        "<br />\n",
        "<hr/>\n",
        "<br />\n",
        "\n"
      ],
      "metadata": {
        "id": "9hs-PGUjr3JJ"
      }
    },
    {
      "cell_type": "markdown",
      "source": [
        "**Q1**. Implement the following six grammar rules capturing some common natural language sentence structures: \n",
        "\n",
        "<br/>\n",
        "\n",
        "1. **Natural Language Sentence**: Alice is a student. \\\n",
        "  **Logical Sentence**: Student(Alice) \\\n",
        "  <br>**General Template**: PROPN is a NOUN. \\\n",
        "  **General Predicate**: NOUN(PROPN) \\\n",
        "\n",
        "<br/>\n",
        "\n",
        "2. **Natural Language Sentence**: Every student is a person. \\\n",
        "  **Logical Sentence**: Student(x) ==> Person(x) \\\n",
        "  <br>**General Template**: Every NOUN$_1$ is a NOUN$_2$. \\\n",
        "  **General Predicate**: NOUN$_1$  ==> NOUN $_2$\n",
        "\n",
        "<br/>\n",
        "\n",
        "3. **Natural Language Sentence**: Alice likes pizza. \\\n",
        "  **Logical Sentence**: NOUN(PROPN) \\\n",
        "  <br>**General Template**: PROPN VERB NOUN. \\\n",
        "  **Logical Sentence**: VERB(PROPN, NOUN)\n",
        "\n",
        "<br/>\n",
        "\n",
        "4. **Natural Language Sentence**: Is Alice a person? \\\n",
        "  **Logical Sentence**: Person(Alice) \n",
        "<br><br/>\n",
        "  **General Template**: Is PROPN a NOUN? \\\n",
        "  **General Predicate**: NOUN(PROPN)\n",
        "\n",
        "<br/>\n",
        "\n",
        "5. **Natural Language Sentence**: Who is a person? \\\n",
        "  **Logical sentence**: Person(x) \n",
        "<br><br/>\n",
        "  **General Template**: Who is a NOUN? \\\n",
        "  **General predicate**: NOUN(x)\n",
        "\n",
        "<br/>\n",
        "\n",
        "6. **Natural Language Sentence**: Who likes pizza? \\\n",
        "  **Logical Sentence**: Likes(x, Pizza) \\\n",
        "  <br/>**General Template**: Who VERB NOUN? \\\n",
        "  **General Predicate**: VERB(x, NOUN)\n",
        "\n",
        "<br/>\n",
        "\n",
        "Make sure you capitalize all constants and names of predicates. \n",
        "\n",
        "Only variables such as `x`, `y` etc. don't need to be capitalized in FOL. \n",
        "\n",
        "You can use `.capitalize()` in Python available for all string variables.\n",
        "\n",
        "<br/>\n",
        "\n",
        "You can use the provided function **`get_pos_tags`** to get POS tags for any given string. The function returns a list of tuples where the first element of each tuple is a token and the second element is the token's POS tag. For example, \n",
        "\n",
        "`get_pos_tags(\"Alice is a student\")` \n",
        "\n",
        "returns \n",
        "\n",
        "`[(Alice, 'PROPN'), (is, 'AUX'), (a, 'DET'), (student, 'NOUN')]`"
      ],
      "metadata": {
        "id": "M_kt3vbnot9o"
      }
    },
    {
      "cell_type": "code",
      "source": [
        "\"\"\"Helper function\"\"\"\n",
        "def get_pos_tags(user_text):\n",
        "  spacy_obj = nlp(user_text)\n",
        "  return [(str(token), str(token.pos_)) for token in spacy_obj]\n",
        "\n",
        "get_pos_tags(\"Is Alice a person?\")"
      ],
      "metadata": {
        "id": "suXcWOCJX7Xi",
        "colab": {
          "base_uri": "https://localhost:8080/"
        },
        "outputId": "9c96f5e1-4cfe-4814-838f-cdfebc348cc2"
      },
      "execution_count": null,
      "outputs": [
        {
          "output_type": "execute_result",
          "data": {
            "text/plain": [
              "[(Is, 'AUX'), (Alice, 'PROPN'), (a, 'DET'), (person, 'NOUN'), (?, 'PUNCT')]"
            ]
          },
          "metadata": {},
          "execution_count": 9
        }
      ]
    },
    {
      "cell_type": "code",
      "source": [
        "def convert_to_fol(user_text):\n",
        "  tags = get_pos_tags(user_text)\n",
        "  noun = ''\n",
        "  noun2 = ''\n",
        "  pnoun = ''\n",
        "  verb = ''\n",
        "  det = False\n",
        "  verbs = False\n",
        "  question = False\n",
        "\n",
        "\n",
        "  for tag in tags:\n",
        "\n",
        "    if str(tag[1]) == \"PRON\":\n",
        "      question = True\n",
        "\n",
        "    elif str(tag[1]) == \"DET\" and str(tag[0]) != \"a\":\n",
        "      det = True\n",
        "\n",
        "    elif str(tag[1]) == \"PROPN\":\n",
        "      pnoun = str(tag[0]).capitalize()\n",
        "\n",
        "    elif str(tag[1]) == \"NOUN\" and len(noun) == 0:\n",
        "      noun = str(tag[0]).capitalize()\n",
        "\n",
        "    elif str(tag[1]) == \"NOUN\":\n",
        "      noun2 = str(tag[0]).capitalize()\n",
        "\n",
        "    elif str(tag[1]) == \"VERB\":\n",
        "      verbs = True\n",
        "      verb = str(tag[0]).capitalize()\n",
        "\n",
        "\n",
        "  if det:\n",
        "    return f\"{noun}(x) ==> {noun2}(x)\"\n",
        "  elif verbs:\n",
        "    if question:\n",
        "      return f\"{verb}(x, {noun})\"\n",
        "    else:\n",
        "      return f\"{verb}({pnoun}, {noun})\"\n",
        "  elif question:\n",
        "    return f\"{noun}(x)\"\n",
        "  else:\n",
        "    return f\"{noun}({pnoun})\"\n",
        "\n",
        "\n",
        "\n",
        "  \n"
      ],
      "metadata": {
        "id": "jpcnC1aiucKA"
      },
      "execution_count": null,
      "outputs": []
    },
    {
      "cell_type": "code",
      "source": [
        "#Test suite\n",
        "\n",
        "assert convert_to_fol(\"Alice is a student\")  == \"Student(Alice)\", \"Test case 1 failed\"         # Template 1\n",
        "assert convert_to_fol(\"Garfield is a cat\")   == \"Cat(Garfield)\",  \"Test case 2 failed\"         # Template 1\n",
        "assert convert_to_fol(\"Syria is a country\")  == \"Country(Syria)\", \"Test case 3 failed\"         # Template 1\n",
        "\n",
        "assert convert_to_fol(\"Every student is a person\") == \"Student(x) ==> Person(x)\", \"Test case 4 failed\"  # Template 2\n",
        "assert convert_to_fol(\"Every cat is a feline\")     == \"Cat(x) ==> Feline(x)\",     \"Test case 5 failed\"  # Template 2\n",
        "\n",
        "assert convert_to_fol(\"Alice likes pizza\")   == \"Likes(Alice, Pizza)\",  \"Test case 6 failed\"   # Template 3\n",
        "assert convert_to_fol(\"Alice plays guitar\")  == \"Plays(Alice, Guitar)\", \"Test case 7 failed\"   # Template 3\n",
        "\n",
        "assert convert_to_fol(\"Is Alice a person?\")  == \"Person(Alice)\",    \"Test case 8 failed\"       # Template 4\n",
        "assert convert_to_fol(\"Is Syria a country?\") == \"Country(Syria)\",   \"Test case 9 failed\"       # Template 4\n",
        "\n",
        "assert convert_to_fol(\"Who is a person?\")    == \"Person(x)\",        \"Test case 10 failed\"      # Template 5\n",
        "assert convert_to_fol(\"Who is a cat?\")       == \"Cat(x)\",           \"Test case 11 failed\"      # Template 5\n",
        "\n",
        "assert convert_to_fol(\"Who likes pizza?\")    == \"Likes(x, Pizza)\",  \"Test case 12 failed\"      # Template 6\n",
        "assert convert_to_fol(\"Who plays guitar?\")   == \"Plays(x, Guitar)\", \"Test case 13 failed\"      # Template 6\n",
        "\n",
        "print(\"All test cases passed successfully\")"
      ],
      "metadata": {
        "id": "FtmmNz4c5yh8",
        "colab": {
          "base_uri": "https://localhost:8080/"
        },
        "outputId": "6b071e3e-e9fb-41e8-f0f9-3f94db15c9e9"
      },
      "execution_count": null,
      "outputs": [
        {
          "output_type": "stream",
          "name": "stdout",
          "text": [
            "All test cases passed successfully\n"
          ]
        }
      ]
    },
    {
      "cell_type": "markdown",
      "source": [
        "\n",
        "<br/>\n",
        "\n",
        "### Q2. Implement a knowledge based agent ( BabyGPT? )\n",
        "<br/>\n",
        "\n",
        "For natural language <u>sentences ending in **`?`**</u> you should call <u>**`fol_fc_ask(kb, logical_sentence)`**.</u>\n",
        "\n",
        "For all other sentences call <u>**`kb.tell(logical_sentence)`**.</u>\n",
        "\n",
        "Note that here we are using the _Forward Chaining_ algorithm from the previous lab. The implementation is in the provided file `logic.py` \n",
        "\n",
        "Write appropriate responses to different user queries. \n",
        "\n",
        "After your implementation, you should be able to try some simple queries. For example:\n",
        "    \n",
        "    > Alice is a student\n",
        "    >>>>> I learned something.\n",
        "    ------------------------------\n",
        "    > Is Alice is a person?\n",
        "    >>>>> I don't know.\n",
        "    ------------------------------\n",
        "    > Every student is a person\n",
        "    >>>>> I learned something.\n",
        "    ------------------------------\n",
        "    > Alice is a person?\n",
        "    >>>>> Yes.\n",
        "    ------------------------------\n",
        "    > Who is a person?\n",
        "    >>>>> Alice."
      ],
      "metadata": {
        "id": "ITogKTnvoeem"
      }
    },
    {
      "cell_type": "code",
      "source": [
        "kb = FolKB()\n",
        "\n",
        "print(\"============================================================\")\n",
        "print(\"Hello!  Talk to me in English.\")\n",
        "print(\"Tell me something new or ask me a question (end the sentence with '?').\")\n",
        "print(\"To exit, press return key without saying anything.\")\n",
        "while True:\n",
        "    try:\n",
        "      print('------------------------------')\n",
        "      print('> ')\n",
        "      sys.stdout.flush()\n",
        "      line = input('>')\n",
        "      if not line: break\n",
        "\n",
        "      fol_line = convert_to_fol(line)\n",
        "      logical_sentence = sent(fol_line)\n",
        "      \n",
        "      if line[-1] == \"?\":\n",
        "        x = list(fol_fc_ask(kb, logical_sentence))\n",
        "\n",
        "        if x:\n",
        "          if \"Who\" in line:\n",
        "           who = x[0].values()\n",
        "           for person in who:\n",
        "             print(person)\n",
        "          else:\n",
        "            print(\"Yes\")\n",
        "        else:\n",
        "          print(\"No\")\n",
        "      else:\n",
        "        kb.tell(logical_sentence)\n",
        "        print(\"Thanks for telling me that information\")\n",
        "\n",
        "      \n",
        "    except Exception as e:\n",
        "      print(\"Who let you cook?\")"
      ],
      "metadata": {
        "id": "iQSXi-dEuK5e",
        "colab": {
          "base_uri": "https://localhost:8080/",
          "height": 579
        },
        "outputId": "8bf6d859-93f0-4f52-bc6c-d02ace09d288"
      },
      "execution_count": null,
      "outputs": [
        {
          "metadata": {
            "tags": null
          },
          "name": "stdout",
          "output_type": "stream",
          "text": [
            "============================================================\n",
            "Hello!  Talk to me in English.\n",
            "Tell me something new or ask me a question (end the sentence with '?').\n",
            "To exit, press return key without saying anything.\n",
            "------------------------------\n",
            "> \n",
            "Thanks for telling me that information\n",
            "------------------------------\n",
            "> \n",
            "Ting\n",
            "------------------------------\n",
            "> \n"
          ]
        },
        {
          "output_type": "error",
          "ename": "KeyboardInterrupt",
          "evalue": "ignored",
          "traceback": [
            "\u001b[0;31m---------------------------------------------------------------------------\u001b[0m",
            "\u001b[0;31mKeyboardInterrupt\u001b[0m                         Traceback (most recent call last)",
            "\u001b[0;32m<ipython-input-154-9a342a52d421>\u001b[0m in \u001b[0;36m<module>\u001b[0;34m\u001b[0m\n\u001b[1;32m     10\u001b[0m       \u001b[0mprint\u001b[0m\u001b[0;34m(\u001b[0m\u001b[0;34m'> '\u001b[0m\u001b[0;34m)\u001b[0m\u001b[0;34m\u001b[0m\u001b[0;34m\u001b[0m\u001b[0m\n\u001b[1;32m     11\u001b[0m       \u001b[0msys\u001b[0m\u001b[0;34m.\u001b[0m\u001b[0mstdout\u001b[0m\u001b[0;34m.\u001b[0m\u001b[0mflush\u001b[0m\u001b[0;34m(\u001b[0m\u001b[0;34m)\u001b[0m\u001b[0;34m\u001b[0m\u001b[0;34m\u001b[0m\u001b[0m\n\u001b[0;32m---> 12\u001b[0;31m       \u001b[0mline\u001b[0m \u001b[0;34m=\u001b[0m \u001b[0minput\u001b[0m\u001b[0;34m(\u001b[0m\u001b[0;34m'>'\u001b[0m\u001b[0;34m)\u001b[0m\u001b[0;34m\u001b[0m\u001b[0;34m\u001b[0m\u001b[0m\n\u001b[0m\u001b[1;32m     13\u001b[0m       \u001b[0;32mif\u001b[0m \u001b[0;32mnot\u001b[0m \u001b[0mline\u001b[0m\u001b[0;34m:\u001b[0m \u001b[0;32mbreak\u001b[0m\u001b[0;34m\u001b[0m\u001b[0;34m\u001b[0m\u001b[0m\n\u001b[1;32m     14\u001b[0m \u001b[0;34m\u001b[0m\u001b[0m\n",
            "\u001b[0;32m/usr/local/lib/python3.8/dist-packages/ipykernel/kernelbase.py\u001b[0m in \u001b[0;36mraw_input\u001b[0;34m(self, prompt)\u001b[0m\n\u001b[1;32m    858\u001b[0m                 \u001b[0;34m\"raw_input was called, but this frontend does not support input requests.\"\u001b[0m\u001b[0;34m\u001b[0m\u001b[0;34m\u001b[0m\u001b[0m\n\u001b[1;32m    859\u001b[0m             )\n\u001b[0;32m--> 860\u001b[0;31m         return self._input_request(str(prompt),\n\u001b[0m\u001b[1;32m    861\u001b[0m             \u001b[0mself\u001b[0m\u001b[0;34m.\u001b[0m\u001b[0m_parent_ident\u001b[0m\u001b[0;34m,\u001b[0m\u001b[0;34m\u001b[0m\u001b[0;34m\u001b[0m\u001b[0m\n\u001b[1;32m    862\u001b[0m             \u001b[0mself\u001b[0m\u001b[0;34m.\u001b[0m\u001b[0m_parent_header\u001b[0m\u001b[0;34m,\u001b[0m\u001b[0;34m\u001b[0m\u001b[0;34m\u001b[0m\u001b[0m\n",
            "\u001b[0;32m/usr/local/lib/python3.8/dist-packages/ipykernel/kernelbase.py\u001b[0m in \u001b[0;36m_input_request\u001b[0;34m(self, prompt, ident, parent, password)\u001b[0m\n\u001b[1;32m    902\u001b[0m             \u001b[0;32mexcept\u001b[0m \u001b[0mKeyboardInterrupt\u001b[0m\u001b[0;34m:\u001b[0m\u001b[0;34m\u001b[0m\u001b[0;34m\u001b[0m\u001b[0m\n\u001b[1;32m    903\u001b[0m                 \u001b[0;31m# re-raise KeyboardInterrupt, to truncate traceback\u001b[0m\u001b[0;34m\u001b[0m\u001b[0;34m\u001b[0m\u001b[0;34m\u001b[0m\u001b[0m\n\u001b[0;32m--> 904\u001b[0;31m                 \u001b[0;32mraise\u001b[0m \u001b[0mKeyboardInterrupt\u001b[0m\u001b[0;34m(\u001b[0m\u001b[0;34m\"Interrupted by user\"\u001b[0m\u001b[0;34m)\u001b[0m \u001b[0;32mfrom\u001b[0m \u001b[0;32mNone\u001b[0m\u001b[0;34m\u001b[0m\u001b[0;34m\u001b[0m\u001b[0m\n\u001b[0m\u001b[1;32m    905\u001b[0m             \u001b[0;32mexcept\u001b[0m \u001b[0mException\u001b[0m \u001b[0;32mas\u001b[0m \u001b[0me\u001b[0m\u001b[0;34m:\u001b[0m\u001b[0;34m\u001b[0m\u001b[0;34m\u001b[0m\u001b[0m\n\u001b[1;32m    906\u001b[0m                 \u001b[0mself\u001b[0m\u001b[0;34m.\u001b[0m\u001b[0mlog\u001b[0m\u001b[0;34m.\u001b[0m\u001b[0mwarning\u001b[0m\u001b[0;34m(\u001b[0m\u001b[0;34m\"Invalid Message:\"\u001b[0m\u001b[0;34m,\u001b[0m \u001b[0mexc_info\u001b[0m\u001b[0;34m=\u001b[0m\u001b[0;32mTrue\u001b[0m\u001b[0;34m)\u001b[0m\u001b[0;34m\u001b[0m\u001b[0;34m\u001b[0m\u001b[0m\n",
            "\u001b[0;31mKeyboardInterrupt\u001b[0m: Interrupted by user"
          ]
        }
      ]
    },
    {
      "cell_type": "markdown",
      "source": [
        "### POS Tags\n",
        "\n",
        "* `ADJ` adjective, e.g. big, old, green, incomprehensible, first\n",
        "* `ADP` adposition, e.g. in, to, during\n",
        "* `ADV` adverb, e.g. very, tomorrow, down, where, there\n",
        "* `AUX` auxiliary, e.g. is, has (done), will (do), should (do)\n",
        "* `CONJ` conjunction, e.g. and, or, but\n",
        "* `CCONJ` coordinating conjunction, e.g. and, or, but\n",
        "* `DE` determiner, e.g. a, an, the\n",
        "* `INTJ` interjection, e.g. psst, ouch, bravo, hello\n",
        "* `NOUN` noun, e.g. girl, cat, tree, air, beauty\n",
        "* `NUM` numeral, e.g. 1, 2017, one, seventy-seven, IV, MMXIV\n",
        "* `PART` particle, e.g. ’s, not,\n",
        "* `PRON` pronoun, e.g I, you, he, she, myself, themselves, somebody\n",
        "* `SPACE` space, e.g.\n",
        "* `PROPN` proper noun, e.g. Mary, John, London, NATO\n",
        "* `PUNCT` punctuation, e.g. ., (, ), ?\n",
        "* `SCONJ` subordinating conjunction, e.g. if, while, that\n",
        "* `SYM` symbol, e.g. $, %, §, ©, +, −, ×, ÷, =, :), 😝\n",
        "* `VERB` verb, e.g. run, runs, running, eat, ate, eating\n",
        "* `X` other, e.g. sfpksdpsxmsa\n"
      ],
      "metadata": {
        "id": "IkJGltoMxerx"
      }
    }
  ]
}