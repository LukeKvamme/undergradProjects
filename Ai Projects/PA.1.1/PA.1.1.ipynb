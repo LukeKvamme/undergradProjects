{
 "cells": [
  {
   "cell_type": "markdown",
   "id": "342acf38",
   "metadata": {},
   "source": [
    "<center>\n",
    "    <h1> CSC-343: ARTIFICIAL INTELLIGENCE </h1><br/>\n",
    "    <h1> PROGRAMMING ASSIGNMENT 1.1. </h1><br/>\n",
    "    <h1> PROPOSITIONAL LOGIC (PL) </h1><br/>\n",
    "        \n",
    "</center>\n",
    "\n",
    "\n",
    "<hr/>"
   ]
  },
  {
   "cell_type": "code",
   "execution_count": null,
   "id": "0b82d455",
   "metadata": {},
   "outputs": [],
   "source": [
    "from sent import *\n",
    "from utils import *"
   ]
  },
  {
   "cell_type": "markdown",
   "id": "52a10655",
   "metadata": {},
   "source": [
    "# 0. Read Documentation"
   ]
  },
  {
   "cell_type": "markdown",
   "id": "c8ef1b1e",
   "metadata": {},
   "source": [
    "## 0.1. `sent.py`"
   ]
  },
  {
   "cell_type": "markdown",
   "id": "5b062b0e",
   "metadata": {},
   "source": [
    "You are given a python file `sent.py`\n",
    "\n",
    "This file contains a class `Sent`\n",
    "\n",
    " **`Sent`**: A PL sentence with an operator `op` and 0 or more arguments `args`.\\\n",
    "    `op` is a str like `'+'` or `'sin'`;\\\n",
    "    `args` are Sentences.\\\n",
    "    \\\n",
    "    `Sent('x')` or `Symbol('x')` creates a symbol (a nullary Sent).\\\n",
    "    `Sent('-', x)` creates a unary sentence; \\\n",
    "    `Sent('+', x, 1)` creates a binary sentence.\n",
    "\n",
    "**`Symbol`** is not an explicit type; it is any `Sent` with 0 `args`.\n",
    "\n",
    "**Creating Symbols**\n",
    "\n",
    "`sent.py` comes with a function `Symbol(...)` that takes in as input name of the propositional symbol you want to create (string type; <u><i>please start names with uppercase letters</i></u>) and returns an object of type `Sent` with 0 `args` and `op` equal to the provided name. "
   ]
  },
  {
   "cell_type": "code",
   "execution_count": null,
   "id": "7ace079a",
   "metadata": {},
   "outputs": [],
   "source": [
    "p = Symbol('P')"
   ]
  },
  {
   "cell_type": "code",
   "execution_count": null,
   "id": "4816666b",
   "metadata": {},
   "outputs": [],
   "source": [
    "p = Symbol('P')"
   ]
  },
  {
   "cell_type": "code",
   "execution_count": null,
   "id": "ae31e3b9",
   "metadata": {},
   "outputs": [],
   "source": [
    "p.args, p.op"
   ]
  },
  {
   "cell_type": "code",
   "execution_count": null,
   "id": "6a6531a1",
   "metadata": {},
   "outputs": [],
   "source": [
    "type(p)"
   ]
  },
  {
   "cell_type": "code",
   "execution_count": null,
   "id": "4f3b1ed5",
   "metadata": {},
   "outputs": [],
   "source": [
    "q = Symbol('Q') \n",
    "s = Sent('|', p, q)"
   ]
  },
  {
   "cell_type": "code",
   "execution_count": null,
   "id": "07d76944",
   "metadata": {},
   "outputs": [],
   "source": [
    "s.args"
   ]
  },
  {
   "cell_type": "code",
   "execution_count": null,
   "id": "df38085d",
   "metadata": {},
   "outputs": [],
   "source": [
    "s.op"
   ]
  },
  {
   "cell_type": "code",
   "execution_count": null,
   "id": "66ad81cd",
   "metadata": {},
   "outputs": [],
   "source": [
    "type(s)"
   ]
  },
  {
   "cell_type": "code",
   "execution_count": null,
   "id": "75c02833",
   "metadata": {},
   "outputs": [],
   "source": [
    "type(s.args[0])"
   ]
  },
  {
   "cell_type": "markdown",
   "id": "43097de0",
   "metadata": {},
   "source": [
    "### Creating PL Sentences:\n",
    "\n",
    "There are **three ways** of constructing sentences: \n",
    "\n",
    "1. Infix notation\n",
    "\n",
    "2. `Sent` constructor\n",
    "\n",
    "3. `sent(...)` method\n",
    "\n",
    "The first _two_ methods are shown in the table below, in the third and fifth columns respectively.\n",
    "\n",
    "Here is a table of the operators that can be used to form sentences. \n",
    "\n",
    "<!-- Note that we have a problem: we want to use Python operators to make sentences, so that our programs (and our interactive sessions like the one here) will show simple code. But Python does not allow implication arrows as operators, so for now we have to use a more verbose notation that Python does allow: `|'==>'|` instead of just `==>`. Alternately, you can always use the more verbose `Sent` constructor forms:\n",
    " -->\n",
    "| Operation                | Textbook<br/>/Slides | Python<br/> INFIX<br/> NOTATION | Python<br/>Output | Python<br/>`Sent`<br/>CONSTRUCTOR\n",
    "|--------------------------|----------------------|-------------------------|---|---|\n",
    "| Negation                 | &not; P      | `~P`                       | `~P` | `Sent('~', P)`\n",
    "| And                      | P &and; Q       | `P & Q`                     | `P & Q` | `Sent('&', P, Q)`\n",
    "| Or                       | P &or; Q | `P`<tt> &#124; </tt>`Q`| `P`<tt> &#124; </tt>`Q` | `Sent('`&#124;`', P, Q)`\n",
    "| Inequality (Xor)         | P &ne; Q     | `P ^ Q`                | `P ^ Q`  | `Sent('^', P, Q)`\n",
    "| Implication                  | P &rarr; Q    | `P` <tt>&#124;</tt>`'==>'`<tt>&#124;</tt> `Q`   | `P ==> Q` | `Sent('==>', P, Q)`\n",
    "| Reverse Implication      | Q &larr; P     | `Q` <tt>&#124;</tt>`'<=='`<tt>&#124;</tt> `P`  |`Q <== P` | `Sent('<==', Q, P)`\n",
    "| Equivalence            | P &harr; Q   | `P` <tt>&#124;</tt>`'<=>'`<tt>&#124;</tt> `Q`   |`P <=> Q` | `Sent('<=>', P, Q)`\n",
    "\n",
    "Note that there are two operators we haven't covered in class:  Reverse Implication `<==` and Inequality (aka Xor) `^`.\n",
    "\n",
    "**You are to implement these yourself**; the truth table for them is as follows: \n",
    "\n",
    "    \n",
    "| P | Q | | P `<==` Q | | P `^` Q |\n",
    "|--------------------------|-|----------------------|-|-------------------------|---|\n",
    "| T | T | | T | | F | \n",
    "| T | F | | T | | T | \n",
    "| F | T | | F | | T | \n",
    "| F | F | | T | | F |  "
   ]
  },
  {
   "cell_type": "markdown",
   "id": "6e2d8e6d",
   "metadata": {},
   "source": [
    "**`sent(..)`** function provides a third way of making PL sentences here. \n",
    "\n",
    "The `sent` function takes in one input: \n",
    "* a string representing a PL sentence in the infix notation \n",
    "\n",
    "and returns \n",
    "* a `Sent` object for that sentence. For example, "
   ]
  },
  {
   "cell_type": "code",
   "execution_count": null,
   "id": "905bc089",
   "metadata": {},
   "outputs": [],
   "source": [
    "s = sent('~(P & Q)  ==>  (~P | ~Q)')"
   ]
  },
  {
   "cell_type": "code",
   "execution_count": null,
   "id": "19bb14e8",
   "metadata": {},
   "outputs": [],
   "source": [
    "type(s)"
   ]
  },
  {
   "cell_type": "code",
   "execution_count": null,
   "id": "87921f58",
   "metadata": {},
   "outputs": [],
   "source": [
    "s.op"
   ]
  },
  {
   "cell_type": "code",
   "execution_count": null,
   "id": "c6a15de0",
   "metadata": {},
   "outputs": [],
   "source": [
    "s.args[0]"
   ]
  },
  {
   "cell_type": "code",
   "execution_count": null,
   "id": "6ece6c26",
   "metadata": {},
   "outputs": [],
   "source": [
    "type(s.args[0])"
   ]
  },
  {
   "cell_type": "code",
   "execution_count": null,
   "id": "3279ff2d",
   "metadata": {},
   "outputs": [],
   "source": [
    "s.args[1]"
   ]
  },
  {
   "cell_type": "code",
   "execution_count": null,
   "id": "a47fb0f7",
   "metadata": {},
   "outputs": [],
   "source": [
    "type(s.args[1])"
   ]
  },
  {
   "cell_type": "code",
   "execution_count": null,
   "id": "b7c7c7e9",
   "metadata": {},
   "outputs": [],
   "source": [
    "s.args[0].op, s.args[0].args"
   ]
  },
  {
   "cell_type": "markdown",
   "id": "f6ca85e9",
   "metadata": {},
   "source": [
    "## 0.2. `utils.py`"
   ]
  },
  {
   "cell_type": "markdown",
   "id": "52944879",
   "metadata": {},
   "source": [
    "The other file you are given is `utils.py` which contains the following functions you might need in your implementation of `pl_true` and `tt_entails`: \n",
    "    \n",
    "* **`extend`** takes three inputs: i. `dict` (dictionary) object ii. `key` iii. `value` and returns an _extended_ dictionary that has all key-value pairs from the input dictionary AND the new `key:value` pair. The extended dictionary that is returned is a new object and leaves the input dictionary unchanged. \n",
    "\n",
    "\n",
    "* **`is_prop_symbol`** takes as input an operator of a sentence and returns True if it is a propositional symbol and False otherwise. \n",
    "\n",
    "\n",
    "* **`prop_symbols`** takes as input a sentence and returns a list of all the propositional symbols in it. \n",
    "\n",
    "<!-- * **`variables`** -->"
   ]
  },
  {
   "cell_type": "markdown",
   "id": "f3dee771",
   "metadata": {},
   "source": [
    "# Q1. Implement PL-TRUE?"
   ]
  },
  {
   "cell_type": "markdown",
   "id": "41582324",
   "metadata": {},
   "source": [
    "<img width=\"70%\" src=\"https://raw.githubusercontent.com/fahadsultan/csc343/main/assets/imgs/pl_true.png\">"
   ]
  },
  {
   "cell_type": "code",
   "execution_count": null,
   "id": "9b03550a",
   "metadata": {},
   "outputs": [],
   "source": [
    "def pl_true(s, model={}):\n",
    "    \"\"\"Return True if the propositional logic sentence is true\n",
    "    in the model, and False if it is false. \n",
    "    \"\"\"\n"
   ]
  },
  {
   "cell_type": "code",
   "execution_count": null,
   "id": "f0c61f2a",
   "metadata": {},
   "outputs": [],
   "source": [
    "P = Symbol('P')\n",
    "Q = Symbol('Q')\n",
    "\n",
    "assert pl_true(P,            {P:True})           == True,   \"Test case 01 failed\"\n",
    "assert pl_true(P,            {P:False})          == False,  \"Test case 02 failed\"\n",
    "\n",
    "assert pl_true(~ P,          {P:True})           == False,  \"Test case 03 failed\"\n",
    "assert pl_true(~ P,          {P:False})          == True,   \"Test case 04 failed\"\n",
    "\n",
    "assert pl_true(P & Q,        {P:True,  Q:True})  == True,   \"Test case 05 failed\"\n",
    "assert pl_true(P & Q,        {P:True,  Q:False}) == False,  \"Test case 06 failed\"\n",
    "assert pl_true(P & Q,        {P:False, Q:True})  == False,  \"Test case 07 failed\"\n",
    "assert pl_true(P & Q,        {P:False, Q:False}) == False,  \"Test case 08 failed\"\n",
    "\n",
    "assert pl_true(P | Q,        {P:True,  Q:True})  == True,   \"Test case 09 failed\"\n",
    "assert pl_true(P | Q,        {P:True,  Q:False}) == True,   \"Test case 10 failed\"\n",
    "assert pl_true(P | Q,        {P:False, Q:True})  == True,   \"Test case 11 failed\"\n",
    "assert pl_true(P | Q,        {P:False, Q:False}) == False,  \"Test case 12 failed\"\n",
    "\n",
    "assert pl_true(P |'==>'|  Q, {P:True,  Q:True})  == True,   \"Test case 13 failed\"\n",
    "assert pl_true(P |'==>'|  Q, {P:True,  Q:False}) == False,  \"Test case 14 failed\"\n",
    "assert pl_true(P |'==>'|  Q, {P:False, Q:True})  == True,   \"Test case 15 failed\"\n",
    "assert pl_true(P |'==>'|  Q, {P:False, Q:False}) == True,   \"Test case 16 failed\"\n",
    "\n",
    "assert pl_true(P |'<=>'|  Q, {P:True,  Q:True})  == True,   \"Test case 17 failed\"\n",
    "assert pl_true(P |'<=>'|  Q, {P:True,  Q:False}) == False,  \"Test case 18 failed\"\n",
    "assert pl_true(P |'<=>'|  Q, {P:False, Q:True})  == False,  \"Test case 19 failed\"\n",
    "assert pl_true(P |'<=>'|  Q, {P:False, Q:False}) == True,   \"Test case 20 failed\"\n",
    "\n",
    "assert pl_true(P ^ Q,        {P:True,  Q:True})  == False,  \"Test case 21 failed\"\n",
    "assert pl_true(P ^ Q,        {P:True,  Q:False}) == True,   \"Test case 22 failed\"\n",
    "assert pl_true(P ^ Q,        {P:False, Q:True})  == True,   \"Test case 23 failed\"\n",
    "assert pl_true(P ^ Q,        {P:False, Q:False}) == False,  \"Test case 24 failed\"\n",
    "\n",
    "assert pl_true(P |'<=='| Q,  {P:True,  Q:True})  == True,   \"Test case 25 failed\"\n",
    "assert pl_true(P |'<=='| Q,  {P:True,  Q:False}) == True,   \"Test case 26 failed\"\n",
    "assert pl_true(P |'<=='| Q,  {P:False, Q:True})  == False,  \"Test case 27 failed\"\n",
    "assert pl_true(P |'<=='| Q,  {P:False, Q:False}) == True,   \"Test case 28 failed\"\n",
    "\n",
    "s = sent('(~P & Q) | (P & ~Q)')\n",
    "\n",
    "assert pl_true(s,            {P:True,   Q:True}) == False,  \"Test case 29 failed\"\n",
    "assert pl_true(s,            {P:False,  Q:True}) == True,   \"Test case 30 failed\"\n",
    "assert pl_true(s,            {P:True,   Q:False})== True,   \"Test case 31 failed\"\n",
    "assert pl_true(s,            {P:False,  Q:False})== False,  \"Test case 32 failed\"\n",
    "\n",
    "s = sent('(P ^ Q) ==> (~P & Q) | (P & ~Q)')\n",
    "\n",
    "assert pl_true(s,            {P:True,   Q:True}) == True,  \"Test case 33 failed\"\n",
    "assert pl_true(s,            {P:False,  Q:True}) == True,  \"Test case 34 failed\"\n",
    "assert pl_true(s,            {P:True,   Q:False})== True,  \"Test case 35 failed\"\n",
    "assert pl_true(s,            {P:False,  Q:False})== True,  \"Test case 36 failed\"\n",
    "\n",
    "s = sent('(P ^ Q) <== (~P & Q) | (P & ~Q)')\n",
    "\n",
    "assert pl_true(s,            {P:True,   Q:True}) == True,  \"Test case 37 failed\"\n",
    "assert pl_true(s,            {P:False,  Q:True}) == True,  \"Test case 38 failed\"\n",
    "assert pl_true(s,            {P:True,   Q:False})== True,  \"Test case 39 failed\"\n",
    "assert pl_true(s,            {P:False,  Q:False})== True,  \"Test case 40 failed\"\n",
    "\n",
    "s = sent('(P ^ Q) <=> (~P & Q) | (P & ~Q)')\n",
    "\n",
    "assert pl_true(s,            {P:True,   Q:True}) == True,  \"Test case 41 failed\"\n",
    "assert pl_true(s,            {P:False,  Q:True}) == True,  \"Test case 42 failed\"\n",
    "assert pl_true(s,            {P:True,   Q:False})== True,  \"Test case 43 failed\"\n",
    "assert pl_true(s,            {P:False,  Q:False})== True,  \"Test case 44 failed\"\n",
    "\n",
    "print(\"All test cases passed successfully\")"
   ]
  },
  {
   "cell_type": "markdown",
   "id": "9f5aed7c",
   "metadata": {},
   "source": [
    "# Q2. Implement TT-ENTAILS?"
   ]
  },
  {
   "cell_type": "markdown",
   "id": "396cd67e",
   "metadata": {},
   "source": [
    "<img width=\"80%\" src=\"https://raw.githubusercontent.com/fahadsultan/csc343/main/assets/imgs/tt_entails.png\">"
   ]
  },
  {
   "cell_type": "code",
   "execution_count": null,
   "id": "bbbc0545",
   "metadata": {},
   "outputs": [],
   "source": [
    "def tt_entails(kb, alpha):\n",
    "    \"\"\"Does kb entail the sentence alpha? Use truth tables.\"\"\"\n",
    "    \n",
    "\n",
    "def tt_check_all(kb, alpha, symbols, model):\n",
    "    \"\"\"Auxiliary routine to implement tt_entails.\"\"\"\n",
    "\n",
    "    "
   ]
  },
  {
   "cell_type": "code",
   "execution_count": null,
   "id": "56c69b73",
   "metadata": {},
   "outputs": [],
   "source": [
    "P = Symbol('P')\n",
    "Q = Symbol('Q')\n",
    "\n",
    "assert tt_entails(P,            P | Q)       == True,  \"Test case 1 failed\"\n",
    "assert tt_entails(P | Q,        Q)           == False, \"Test case 2 failed\"\n",
    "assert tt_entails(P & Q ,       P)           == True,  \"Test case 3 failed\"\n",
    "assert tt_entails(P & Q ,       Q)           == True,  \"Test case 4 failed\"\n",
    "\n",
    "assert tt_entails(P |'<=>'| Q , P |'==>'| Q) == True,  \"Test case 5 failed\"\n",
    "assert tt_entails(P |'<=>'| Q , P |'<=='| Q) == True,  \"Test case 6 failed\"\n",
    "assert tt_entails(P |'<=>'| Q , Q |'==>'| P) == True,  \"Test case 7 failed\"\n",
    "\n",
    "s = sent('P ==> Q')\n",
    "\n",
    "assert tt_entails(s & P, P) == True,   \"Test case 8 failed\"\n",
    "assert tt_entails(s & P, Q) == True,   \"Test case 9 failed\"\n",
    "assert tt_entails(s & Q, P) == False,  \"Test case 10 failed\"\n",
    "assert tt_entails(s & Q, Q) == True,   \"Test case 11 failed\"\n",
    "\n",
    "s = sent('(~P & Q) | (P & ~Q)')\n",
    "\n",
    "assert tt_entails(s , Q ^ P) == True,  \"Test case 12 failed\"\n",
    "assert tt_entails(Q ^ P,  s) == True,  \"Test case 13 failed\"\n",
    "\n",
    "print(\"All test cases passed successfully\")"
   ]
  }
 ],
 "metadata": {
  "kernelspec": {
   "display_name": "Python 3 (ipykernel)",
   "language": "python",
   "name": "python3"
  },
  "language_info": {
   "codemirror_mode": {
    "name": "ipython",
    "version": 3
   },
   "file_extension": ".py",
   "mimetype": "text/x-python",
   "name": "python",
   "nbconvert_exporter": "python",
   "pygments_lexer": "ipython3",
   "version": "3.9.12"
  }
 },
 "nbformat": 4,
 "nbformat_minor": 5
}
