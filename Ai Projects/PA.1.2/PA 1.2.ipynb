{
 "cells": [
  {
   "cell_type": "markdown",
   "id": "342acf38",
   "metadata": {},
   "source": [
    "<center>\n",
    "    <h1> CSC-343: ARTIFICIAL INTELLIGENCE </h1><br/>\n",
    "    <h1> PROGRAMMING ASSIGNMENT 1.2. </h1><br/>\n",
    "    <h1> PROPOSITIONAL LOGIC (PL) </h1><br/>\n",
    "        \n",
    "</center>\n",
    "\n",
    "\n",
    "<hr/>"
   ]
  },
  {
   "cell_type": "markdown",
   "id": "52a10655",
   "metadata": {},
   "source": [
    "# 0. Read Documentation"
   ]
  },
  {
   "cell_type": "markdown",
   "id": "c8ef1b1e",
   "metadata": {},
   "source": [
    "## 0.1. `sent.py`"
   ]
  },
  {
   "cell_type": "markdown",
   "id": "5b062b0e",
   "metadata": {},
   "source": [
    "You are given a python file `sent.py`\n",
    "\n",
    "This file contains a class `Sent`\n",
    "\n",
    " **`Sent`**: A PL sentence with an operator `op` and 0 or more arguments `args`.\\\n",
    "    `op` is a str like `'+'` or `'sin'`;\\\n",
    "    `args` are Sentences.\\\n",
    "    \\\n",
    "    `Sent('x')` or `Symbol('x')` creates a symbol (a nullary Sent).\\\n",
    "    `Sent('-', x)` creates a unary sentence; \\\n",
    "    `Sent('+', x, 1)` creates a binary sentence.\n",
    "\n",
    "**`Symbol`** is not an explicit type; it is any `Sent` with 0 `args`.\n",
    "\n",
    "### Creating Symbols\n",
    "\n",
    "`sent.py` comes with a function `Symbol(...)` that takes in as input name of the propositional symbol you want to create (string type; <u><i>please start names with uppercase letters</i></u>) and returns an object of type `Sent` with 0 `args` and `op` equal to the provided name. "
   ]
  },
  {
   "cell_type": "markdown",
   "id": "43097de0",
   "metadata": {},
   "source": [
    "### Creating PL Sentences:\n",
    "\n",
    "There are **three ways** of constructing sentences: \n",
    "\n",
    "1. Infix notation\n",
    "\n",
    "2. `Sent` constructor\n",
    "\n",
    "3. `sent(...)` method\n",
    "\n",
    "The first _two_ methods are shown in the table below, in the third and fifth columns respectively.\n",
    "\n",
    "Here is a table of the operators that can be used to form sentences. \n",
    "\n",
    "<!-- Note that we have a problem: we want to use Python operators to make sentences, so that our programs (and our interactive sessions like the one here) will show simple code. But Python does not allow implication arrows as operators, so for now we have to use a more verbose notation that Python does allow: `|'==>'|` instead of just `==>`. Alternately, you can always use the more verbose `Sent` constructor forms:\n",
    " -->\n",
    "| Operation                | Textbook<br/>/Slides | Python<br/> INFIX<br/> NOTATION | Python<br/>Output | Python<br/>`Sent`<br/>CONSTRUCTOR\n",
    "|--------------------------|----------------------|-------------------------|---|---|\n",
    "| Negation                 | &not; P      | `~P`                       | `~P` | `Sent('~', P)`\n",
    "| And                      | P &and; Q       | `P & Q`                     | `P & Q` | `Sent('&', P, Q)`\n",
    "| Or                       | P &or; Q | `P`<tt> &#124; </tt>`Q`| `P`<tt> &#124; </tt>`Q` | `Sent('`&#124;`', P, Q)`\n",
    "| Inequality (Xor)         | P &ne; Q     | `P ^ Q`                | `P ^ Q`  | `Sent('^', P, Q)`\n",
    "| Implication                  | P &rarr; Q    | `P` <tt>&#124;</tt>`'==>'`<tt>&#124;</tt> `Q`   | `P ==> Q` | `Sent('==>', P, Q)`\n",
    "| Reverse Implication      | Q &larr; P     | `Q` <tt>&#124;</tt>`'<=='`<tt>&#124;</tt> `P`  |`Q <== P` | `Sent('<==', Q, P)`\n",
    "| Equivalence            | P &harr; Q   | `P` <tt>&#124;</tt>`'<=>'`<tt>&#124;</tt> `Q`   |`P <=> Q` | `Sent('<=>', P, Q)`\n",
    "\n",
    "Note that there are two operators we haven't covered in class:  Reverse Implication `<==` and Inequality (aka Xor) `^`.\n",
    "\n",
    "**You are to implement these yourself**; the truth table for them is as follows: \n",
    "\n",
    "    \n",
    "| P | Q | | P `<==` Q | | P `^` Q |\n",
    "|--------------------------|-|----------------------|-|-------------------------|---|\n",
    "| T | T | | T | | F | \n",
    "| T | F | | T | | T | \n",
    "| F | T | | F | | T | \n",
    "| F | F | | T | | F |  "
   ]
  },
  {
   "cell_type": "markdown",
   "id": "6e2d8e6d",
   "metadata": {},
   "source": [
    "**`sent(..)`** function provides a third way of making PL sentences here. \n",
    "\n",
    "The `sent` function takes in one input: \n",
    "* a string representing a PL sentence in the infix notation \n",
    "\n",
    "and returns \n",
    "* a `Sent` object for that sentence. For example, "
   ]
  },
  {
   "cell_type": "code",
   "execution_count": null,
   "id": "905bc089",
   "metadata": {},
   "outputs": [],
   "source": [
    "from sent  import *\n",
    "from utils import *\n",
    "from kb    import *\n",
    "from cnf   import *\n",
    "\n",
    "p = Symbol('P')\n",
    "print(\"0. Creating a propositional symbol P:\\t\\t\", p, \"\\n\")\n",
    "print(\"Type of prop symbol P:\\t\\t\", type(p))\n",
    "\n",
    "p = Symbol('P')\n",
    "print(\"Arguments of prop symbol P:\\t\", p.args)\n",
    "print(\"Operator  of prop symbol P:\\t\", p.op)\n",
    "\n",
    "print()\n",
    "\n",
    "q = Symbol('Q') \n",
    "# P OR Q \n",
    "\n",
    "s = Sent('|', p, q)\n",
    "print(\"1. Creating a sentence s, using Sent:\\t\\t\", s, \"\\n\")\n",
    "print(\"Type       of sentence `s`:\\t\", type(s))\n",
    "print(\"Argument 1 of sentence `s`:\\t\", s.args[0])\n",
    "print(\"Argument 2 of sentence `s`:\\t\", s.args[1])\n",
    "print(\"Operator   of sentence `s`:\\t\", s.op)\n",
    "\n",
    "print()\n",
    "\n",
    "s = p | q\n",
    "print(\"2. Creating a sentence s, using infix notation:\\t\", s, \"\\n\")\n",
    "print(\"Type       of sentence `s`:\\t\", type(s))\n",
    "print(\"Argument 1 of sentence `s`:\\t\", s.args[0])\n",
    "print(\"Argument 2 of sentence `s`:\\t\", s.args[1])\n",
    "print(\"Operator   of sentence `s`:\\t\", s.op)\n",
    "\n",
    "print()\n",
    "\n",
    "s = sent('~(P & Q)  ==>  (~P | ~Q)')\n",
    "print(\"3. Creating the sentence s, using sent method:\\t\", s, \"\\n\")\n",
    "print(\"Type       of sentence `s`:\\t\", type(s))\n",
    "print(\"Argument 1 of sentence `s`:\\t\", s.args[0])\n",
    "print(\"Argument 2 of sentence `s`:\\t\", s.args[1])\n",
    "print(\"Operator   of sentence `s`:\\t\", s.op)"
   ]
  },
  {
   "cell_type": "markdown",
   "id": "f6ca85e9",
   "metadata": {},
   "source": [
    "## 0.2. `utils.py`"
   ]
  },
  {
   "cell_type": "markdown",
   "id": "52944879",
   "metadata": {},
   "source": [
    "The other file you are given is `utils.py` which contains the following functions you might need in your implementation of `pl_true` and `tt_entails`: \n",
    "    \n",
    "* **`extend`** takes three inputs: i. `dict` (dictionary) object ii. `key` iii. `value` and returns an _extended_ dictionary that has all key-value pairs from the input dictionary AND the new `key:value` pair. The extended dictionary that is returned is a new object and leaves the input dictionary unchanged. \n",
    "\n",
    "\n",
    "* **`is_prop_symbol`** takes as input an operator of a sentence and returns True if it is a propositional symbol and False otherwise. \n",
    "\n",
    "\n",
    "* **`prop_symbols`** takes as input a sentence and returns a list of all the propositional symbols in it. "
   ]
  },
  {
   "cell_type": "markdown",
   "id": "0eed1eb3",
   "metadata": {},
   "source": [
    "## 0.3. `kb.py`"
   ]
  },
  {
   "cell_type": "markdown",
   "id": "7b9daaf3",
   "metadata": {},
   "source": [
    "A PL knowledge base to which you can `tell` and `ask_if_true` sentences."
   ]
  },
  {
   "cell_type": "markdown",
   "id": "12db6e2a",
   "metadata": {},
   "source": [
    "## 0.4. `cnf.py`"
   ]
  },
  {
   "cell_type": "markdown",
   "id": "4da554be",
   "metadata": {},
   "source": [
    "Contains a set of functions: `to_cnf`, `eliminate_implications`, `move_not_inwards` and `distribute_and_over_or` for converting any sentence to CNF form. \n"
   ]
  },
  {
   "cell_type": "markdown",
   "id": "20896aea",
   "metadata": {},
   "source": [
    "<hr/>"
   ]
  },
  {
   "cell_type": "markdown",
   "id": "ca4aa75f",
   "metadata": {},
   "source": [
    "# 2. Move `pl_true`, `tt_entails` and `tt_checks_all` to `kb.py`"
   ]
  },
  {
   "cell_type": "markdown",
   "id": "5cb607af",
   "metadata": {},
   "source": [
    "Copy-paste your function definitions of `pl_true`, `tt_entails` and `tt_checks_all` in `kb.py`\n",
    "\n",
    "Make sure your implementation of these functions pass the test cases from **Lab 1**\n",
    "\n",
    "<i><span style=\"color:red\">You may have to <b>restart the jupyter notebook server</b> (not just restart the kernel) for these function definitions to be available in this notebook file.</span></i>"
   ]
  },
  {
   "cell_type": "code",
   "execution_count": null,
   "id": "797c8857",
   "metadata": {},
   "outputs": [],
   "source": [
    "from sent  import *\n",
    "from utils import *\n",
    "from kb    import *\n",
    "from cnf   import *"
   ]
  },
  {
   "cell_type": "markdown",
   "id": "ea52c6c6",
   "metadata": {},
   "source": [
    "<hr/>"
   ]
  },
  {
   "cell_type": "markdown",
   "id": "36985744",
   "metadata": {},
   "source": [
    "# 3.  🦄"
   ]
  },
  {
   "cell_type": "markdown",
   "id": "ff14513b",
   "metadata": {},
   "source": [
    "\n",
    "_If the unicorn is mythical, then it is immortal, but if it is not mythical, then it is a mortal mammal. If the unicorn is either immortal or a mammal, then it is horned. The unicorn is magical if it is horned._\n",
    "\n",
    "3.a. Identify propositional symbols"
   ]
  },
  {
   "cell_type": "code",
   "execution_count": null,
   "id": "d9367fd9",
   "metadata": {},
   "outputs": [],
   "source": [
    "magical  = Symbol('Magical')\n",
    "mythical = Symbol('Mythical')\n",
    "horned   = Symbol('Horned')\n",
    "immortal = Symbol(\"Immortal\")"
   ]
  },
  {
   "cell_type": "markdown",
   "id": "af87024c",
   "metadata": {},
   "source": [
    "3.b. Write Knowledge Base (KB) as PL sentences "
   ]
  },
  {
   "cell_type": "code",
   "execution_count": null,
   "id": "a8f7c40c",
   "metadata": {},
   "outputs": [],
   "source": [
    "s1 = \n",
    "s2 = \n",
    "s3 = \n",
    "s4 = \n",
    "\n",
    "kb = PropKB()\n",
    "kb.tell(s1)\n",
    "kb.tell(s2)\n",
    "kb.tell(s3)\n",
    "kb.tell(s4)"
   ]
  },
  {
   "cell_type": "markdown",
   "id": "77d13289",
   "metadata": {},
   "source": [
    "3.c. Write the truth value of the entailments below: \n",
    "\n",
    "KB ⊨ mythical? \\\n",
    "KB ⊨ magical? \\\n",
    "KB ⊨ horned? "
   ]
  },
  {
   "cell_type": "code",
   "execution_count": null,
   "id": "39418e8b",
   "metadata": {},
   "outputs": [],
   "source": [
    "kb.ask_if_true(mythical)"
   ]
  },
  {
   "cell_type": "code",
   "execution_count": null,
   "id": "04324f9f",
   "metadata": {},
   "outputs": [],
   "source": [
    "kb.ask_if_true(magical)"
   ]
  },
  {
   "cell_type": "code",
   "execution_count": null,
   "id": "78fd4e99",
   "metadata": {},
   "outputs": [],
   "source": [
    "kb.ask_if_true(horned)"
   ]
  },
  {
   "cell_type": "markdown",
   "id": "c7405c9b",
   "metadata": {},
   "source": [
    "<hr/>"
   ]
  },
  {
   "cell_type": "markdown",
   "id": "5f643654",
   "metadata": {},
   "source": [
    "# 4. Which of the following are correct?\n",
    "\n",
    "_(Written Assignment 1.2. Q2)_ \n",
    "\n",
    "Create a Propositional Knowledge Base `PropKB` and use `kb.tell(..)` and `kb.ask_if_true(..)` to answer the following: "
   ]
  },
  {
   "cell_type": "markdown",
   "id": "b241b322",
   "metadata": {},
   "source": [
    "1.  False ⊨ True"
   ]
  },
  {
   "cell_type": "code",
   "execution_count": null,
   "id": "6bb39216",
   "metadata": {},
   "outputs": [],
   "source": []
  },
  {
   "cell_type": "markdown",
   "id": "2aadbfd6",
   "metadata": {},
   "source": [
    "2.  A⇔B  ⊨ A∨B"
   ]
  },
  {
   "cell_type": "code",
   "execution_count": null,
   "id": "f2c1bbf9",
   "metadata": {},
   "outputs": [],
   "source": []
  },
  {
   "cell_type": "markdown",
   "id": "2018b3ac",
   "metadata": {},
   "source": [
    "3. (C∨(¬A∧¬B)) ≡ ((A⇒C)∧(B⇒C))"
   ]
  },
  {
   "cell_type": "code",
   "execution_count": null,
   "id": "2b129b16",
   "metadata": {},
   "outputs": [],
   "source": []
  },
  {
   "cell_type": "markdown",
   "id": "707e96f8",
   "metadata": {},
   "source": [
    "4.  (A∨B)∧(¬C∨¬D∨E) ⊨ (A∨B)"
   ]
  },
  {
   "cell_type": "code",
   "execution_count": null,
   "id": "7b0ea298",
   "metadata": {},
   "outputs": [],
   "source": []
  },
  {
   "cell_type": "markdown",
   "id": "5938f8ea",
   "metadata": {},
   "source": [
    "<hr/>"
   ]
  },
  {
   "cell_type": "markdown",
   "id": "79e5ce8e",
   "metadata": {},
   "source": [
    "# 4. Implement the Resolution Inference Rule \n",
    "\n",
    "Implement the inference rule, <strong>resolution</strong> which states \n",
    "\n",
    "$$(l_1 \\lor \\dots \\lor l_k) \\land (m_1 \\lor \\dots \\lor m_n) \\land (l_i \\iff \\neg m_j) \\implies l_1 \\lor \\dots \\lor l_{i - 1} \\lor l_{i + 1} \\lor \\dots \\lor l_k \\lor m_1 \\lor \\dots \\lor m_{j - 1} \\lor m_{j + 1} \\lor \\dots \\lor m_n$$. \n"
   ]
  },
  {
   "cell_type": "markdown",
   "id": "5e7123a4",
   "metadata": {},
   "source": [
    "<img width=\"70%\" src=\"https://raw.githubusercontent.com/fahadsultan/csc343/main/assets/imgs/pl_resolve1.png\">\n",
    "<img width=\"70%\" src=\"https://raw.githubusercontent.com/fahadsultan/csc343/main/assets/imgs/pl_resolve2.png\">\n",
    "<img width=\"70%\" src=\"https://raw.githubusercontent.com/fahadsultan/csc343/main/assets/imgs/pl_resolve3.png\">"
   ]
  },
  {
   "cell_type": "markdown",
   "id": "bb2f41a6",
   "metadata": {},
   "source": [
    "## Helper functions\n",
    "You may want to use the following in your implementation of `pl_resolve`: \n",
    "\n",
    "### - **`disjuncts`** (in `utils.py`)\n",
    "\n",
    "**Input**: A sentence `s` \\\n",
    "**Output**: List of the disjuncts in the given sentence `s`.\n",
    "\n",
    "For example:"
   ]
  },
  {
   "cell_type": "code",
   "execution_count": null,
   "id": "ddca2b23",
   "metadata": {},
   "outputs": [],
   "source": [
    "A  = Symbol('A')\n",
    "B  = Symbol('B')\n",
    "ds = disjuncts(A | B)\n",
    "\n",
    "print(type(ds))\n",
    "print(len(ds))\n",
    "print(ds)"
   ]
  },
  {
   "cell_type": "code",
   "execution_count": null,
   "id": "6e14c5dc",
   "metadata": {},
   "outputs": [],
   "source": [
    "A  = Symbol('A')\n",
    "B  = Symbol('B')\n",
    "ds = disjuncts(A & B)\n",
    "\n",
    "print(type(ds))\n",
    "print(len(ds))\n",
    "print(ds)"
   ]
  },
  {
   "cell_type": "markdown",
   "id": "af21157c",
   "metadata": {},
   "source": [
    "### - **`associate`** (in `utils.py`)\n",
    "\n",
    "**Inputs**: \n",
    "    \n",
    "1. `op`: an associative operator (ones that obey the associativity equivalence)\n",
    "\n",
    "2. `args`: A list of sentences\n",
    "\n",
    "**Output**:\n",
    "returns a complex sentence with given `op` between sentences, but flattened \n",
    "i.e. nested instances of same operators are promoted \n",
    "to the top level\n",
    "\n",
    "For example: "
   ]
  },
  {
   "cell_type": "code",
   "execution_count": null,
   "id": "8819f57b",
   "metadata": {},
   "outputs": [],
   "source": [
    "A = Symbol('A')\n",
    "B = Symbol('B')\n",
    "C = Symbol('C')\n",
    "\n",
    "original = Sent('&', (A & B), (B | C), (B & C))\n",
    "new = associate('&', [(A & B), (B | C), (B & C)])\n",
    "\n",
    "print(\"Original sentence: \", original, \"\\n\")\n",
    "print(\"New sentence: \", new)"
   ]
  },
  {
   "cell_type": "code",
   "execution_count": null,
   "id": "7c702517",
   "metadata": {},
   "outputs": [],
   "source": [
    "A = Symbol('A')\n",
    "B = Symbol('B')\n",
    "C = Symbol('C')\n",
    "\n",
    "original = A|(B|(C|(A&B)))\n",
    "\n",
    "new = associate('|', [A|(B|(C|(A&B)))])\n",
    "\n",
    "print(\"Original sentence: \", original, \"\\n\")\n",
    "print(\"New sentence: \", new)"
   ]
  },
  {
   "cell_type": "markdown",
   "id": "4b033c5c",
   "metadata": {},
   "source": [
    "### - **`unique`** (in `utils.py`)\n",
    "\n",
    "**Input**: A sequence `seq` of hashable elements (basically int, float, bool, strings, tuples). \\\n",
    "**Output**: A sequence with duplicate elements from `seq` removed. \n"
   ]
  },
  {
   "cell_type": "markdown",
   "id": "15c57776",
   "metadata": {},
   "source": [
    "### - **`remove_all`** (in `utils.py`)"
   ]
  },
  {
   "cell_type": "markdown",
   "id": "efd37c57",
   "metadata": {},
   "source": [
    "**Input** A sequence `seq`(or string)\\\n",
    "**Output** A copy of `seq` with all occurrences of item removed."
   ]
  },
  {
   "cell_type": "markdown",
   "id": "9c65b121",
   "metadata": {},
   "source": [
    "<hr/>"
   ]
  },
  {
   "cell_type": "code",
   "execution_count": null,
   "id": "7e1f71e8",
   "metadata": {},
   "outputs": [],
   "source": [
    "def pl_resolve(ci, cj):\n",
    "    \"\"\"Return all clauses that can be obtained by resolving clauses ci and cj.\"\"\"\n",
    "\n",
    "                \n",
    "    return clauses"
   ]
  },
  {
   "cell_type": "code",
   "execution_count": null,
   "id": "3fef05c2",
   "metadata": {},
   "outputs": [],
   "source": [
    "# Slides 33-39 Lecture 1.3.\n",
    "\n",
    "P = Symbol(\"P\")\n",
    "Q = Symbol(\"Q\")\n",
    "R = Symbol(\"R\")\n",
    "\n",
    "c1 = ~Q | R\n",
    "c2 = ~R | P | Q\n",
    "c3 = ~P | R\n",
    "c4 = ~R\n",
    "c5 = P\n",
    "\n",
    "print(\"Test case 1\", pl_resolve(c1, c2)) #Compare your output to Slides 33-34 of Lecture 1.3.\n",
    "print(\"Test case 2\", pl_resolve(c2, c3)) #Slides 35-36\n",
    "print(\"Test case 3\", pl_resolve(c1, c4)) #Slide  37\n",
    "print(\"Test case 4\", pl_resolve(c3, c4)) #Slide  38\n",
    "print(\"Test case 5\", pl_resolve(c3, c5)) #The one that got away.. This should be [R]"
   ]
  },
  {
   "cell_type": "markdown",
   "id": "d00941b9",
   "metadata": {},
   "source": [
    "<hr/>\n",
    "<hr/>"
   ]
  },
  {
   "cell_type": "markdown",
   "id": "12a5f886",
   "metadata": {},
   "source": [
    "# 4. Implement `PL-RESOLUTION`\n"
   ]
  },
  {
   "cell_type": "markdown",
   "id": "df52d13c",
   "metadata": {},
   "source": [
    "<img width=\"75%\" src=\"https://raw.githubusercontent.com/fahadsultan/csc343/main/assets/imgs/pl_resolution.png\">"
   ]
  },
  {
   "cell_type": "markdown",
   "id": "3dba1bb0",
   "metadata": {},
   "source": [
    "## Helper Functions\n",
    "\n",
    "### - **`conjuncts`** (in `utils.py`)\n",
    "\n",
    "**Input**: a sentence `s` \\\n",
    "**Output**: a list of the conjuncts in the given sentence `s`.\n",
    "\n",
    "For example:"
   ]
  },
  {
   "cell_type": "code",
   "execution_count": null,
   "id": "459ef39d",
   "metadata": {},
   "outputs": [],
   "source": [
    "A = Symbol('A')\n",
    "B = Symbol('B')\n",
    "\n",
    "conjuncts(A & B)"
   ]
  },
  {
   "cell_type": "code",
   "execution_count": null,
   "id": "d99e0e80",
   "metadata": {},
   "outputs": [],
   "source": [
    "A = Symbol('A')\n",
    "B = Symbol('B')\n",
    "\n",
    "conjuncts(A | B)"
   ]
  },
  {
   "cell_type": "markdown",
   "id": "0fd69091",
   "metadata": {},
   "source": [
    "### - **`kb.clauses`**\n",
    "\n",
    "_This is not a function, but is helpful still_\n",
    "\n",
    "Everytime you `tell` a knowledge base any `sentence`, it converts it into CNF form.\n",
    "\n",
    "This is so it doesn't have to do the conversion everytime, for the same _knowledge_, for every `ask` operation. \n",
    "\n",
    "<u>`kb.clauses` gives you the clauses in the knowledge base.</u>\n",
    "\n",
    "\n",
    "\n",
    "For example, "
   ]
  },
  {
   "cell_type": "code",
   "execution_count": null,
   "id": "898e6dbe",
   "metadata": {},
   "outputs": [],
   "source": [
    "kb = PropKB()\n",
    "kb.tell(sent('~A & ~B'))\n",
    "kb.tell(sent('~(P & Q)  ==>  (~P | ~Q)'))\n",
    "\n",
    "print(type(kb.clauses))\n",
    "print(len(kb.clauses))\n",
    "print(kb.clauses)\n"
   ]
  },
  {
   "cell_type": "markdown",
   "id": "572c5404",
   "metadata": {},
   "source": [
    "### - **`to_cnf`**  (in `cnf.py`)\n",
    "\n",
    "Convert a propositional logical sentence to Conjunctive Normal Form (CNF).\n",
    "\n",
    "For example,"
   ]
  },
  {
   "cell_type": "code",
   "execution_count": null,
   "id": "4f4a35f7",
   "metadata": {},
   "outputs": [],
   "source": [
    "# Slide 19 Lecture.1.3.\n",
    "\n",
    "s = sent(\"R <=> (P | Q)\") \n",
    "s_cnf = to_cnf(s)\n",
    "\n",
    "print(type(s_cnf), \"\\n\")\n",
    "print(\"Sentence in CNF:\\n\", s_cnf, \"\\n\")\n",
    "print(\"Conjuncts in CNF:\\n\", conjuncts(s_cnf), \"\\n\")"
   ]
  },
  {
   "cell_type": "markdown",
   "id": "c300bea4",
   "metadata": {},
   "source": [
    "<hr/>"
   ]
  },
  {
   "cell_type": "code",
   "execution_count": null,
   "id": "cd3a5275",
   "metadata": {},
   "outputs": [],
   "source": [
    "def pl_resolution(kb, alpha):\n",
    "    \"\"\"Propositional-logic resolution: say if alpha follows from KB.\n",
    "    \"\"\"\n"
   ]
  },
  {
   "cell_type": "code",
   "execution_count": null,
   "id": "26a89d79",
   "metadata": {},
   "outputs": [],
   "source": [
    "# Written Assignment 1.2  Q5. \n",
    "\n",
    "a = Symbol(\"A\")\n",
    "b = Symbol(\"B\")\n",
    "c = Symbol(\"C\")\n",
    "d = Symbol(\"D\")\n",
    "g = Symbol(\"G\")\n",
    "\n",
    "kb = PropKB()\n",
    "\n",
    "kb.tell(a  | g)\n",
    "kb.tell(a |'==>'| c)\n",
    "kb.tell(b |'==>'| d)\n",
    "kb.tell(c |'==>'| g)\n",
    "kb.tell(d |'==>'| g)\n",
    "\n",
    "assert pl_resolution(kb, g) == kb.ask_if_true(g), \"Test case failed\"\n",
    "\n",
    "print(\"Test case passed successfully\")"
   ]
  }
 ],
 "metadata": {
  "kernelspec": {
   "display_name": "Python 3 (ipykernel)",
   "language": "python",
   "name": "python3"
  },
  "language_info": {
   "codemirror_mode": {
    "name": "ipython",
    "version": 3
   },
   "file_extension": ".py",
   "mimetype": "text/x-python",
   "name": "python",
   "nbconvert_exporter": "python",
   "pygments_lexer": "ipython3",
   "version": "3.9.12"
  }
 },
 "nbformat": 4,
 "nbformat_minor": 5
}
